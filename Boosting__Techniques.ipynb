{
  "nbformat": 4,
  "nbformat_minor": 0,
  "metadata": {
    "colab": {
      "provenance": []
    },
    "kernelspec": {
      "name": "python3",
      "display_name": "Python 3"
    },
    "language_info": {
      "name": "python"
    }
  },
  "cells": [
    {
      "cell_type": "markdown",
      "source": [
        "**1: What is Boosting in Machine Learning? Explain how it improves weak learners?**\n",
        "\n",
        "**Answer:**\n",
        "\n",
        "Boosting is an ensemble learning technique in machine learning where multiple weak learners (usually decision trees with shallow depth) are combined sequentially to form a strong learner.\n",
        "\n",
        "A weak learner is a model that performs slightly better than random guessing (e.g., 55–60% accuracy).\n",
        "\n",
        "Boosting trains models one after another, where each new model focuses on the mistakes (errors or misclassified points) of the previous ones.\n",
        "\n",
        "At the end, all these models are combined (usually with weighted voting or weighted sums) to produce a final, more accurate prediction.\n",
        "\n",
        "**How Boosting Works (Step-by-Step)**\n",
        "\n",
        ".Initialize: Start with equal weights for all training samples.\n",
        "\n",
        ".Train Weak Learner: Fit a weak model (e.g., small decision tree) on the data.\n",
        "\n",
        ".Evaluate Errors: Identify the samples the model got wrong.\n",
        "\n",
        ".Update Weights: Increase the weights of misclassified samples so that the next model pays more attention to them.\n",
        "\n",
        ".Repeat: Train another weak learner on this updated dataset.\n",
        "\n",
        ".Combine: Aggregate the predictions of all weak learners (weighted majority vote for classification or weighted sum for regression).\n",
        "\n",
        ".Focus on Hard Cases: Each weak learner focuses on the mistakes made by the previous ones.\n",
        "\n",
        ".Error Reduction: By sequentially correcting errors, the overall bias decreases.\n",
        "\n",
        ".Weighted Combination: Instead of treating all models equally (like in Bagging/Random Forest), Boosting assigns higher weights to more accurate models.\n",
        "\n",
        ".Bias-Variance Tradeoff: Boosting reduces bias significantly, while controlling variance by combining multiple weak learners.\n",
        "\n",
        "**Boosting = Weak Learners + Sequential Training + Error Focused Reweighting → Strong Learner.**"
      ],
      "metadata": {
        "id": "TCADApuaF_nq"
      }
    },
    {
      "cell_type": "markdown",
      "source": [
        "\n",
        "\n",
        "---\n",
        "\n"
      ],
      "metadata": {
        "id": "GZpsFeYGHDGQ"
      }
    },
    {
      "cell_type": "markdown",
      "source": [
        "**2: What is the difference between AdaBoost and Gradient Boosting in terms of how models are trained?**\n",
        "\n",
        "**Answer:**\n",
        "\n",
        "**AdaBoost (Adaptive Boosting)**\n",
        "\n",
        "Error-based weighting approach.\n",
        "\n",
        "**Steps:**\n",
        "\n",
        "Train a weak learner (usually a decision stump).\n",
        "\n",
        "Calculate errors: Identify which samples were misclassified.\n",
        "\n",
        "Update weights: Increase the weights of misclassified samples, decrease for correctly classified ones.\n",
        "\n",
        "Train the next learner with these updated sample weights.\n",
        "\n",
        "Final prediction = weighted majority vote (classification) or weighted sum (regression).\n",
        "\n",
        "**Gradient Boosting**\n",
        "\n",
        "Loss-function optimization approach.\n",
        "\n",
        "Steps:\n",
        "\n",
        "Train a weak learner (usually a small decision tree).\n",
        "\n",
        "Compute residuals (errors = actual – predicted).\n",
        "\n",
        "Train the next learner to predict these residuals (the gradient of the loss function).\n",
        "\n",
        "Add this learner to the model, improving predictions step by step.\n",
        "\n",
        "Final prediction = sum of all weak learners’ outputs.\n",
        "\n",
        "**AdaBoost → Sequentially reweights samples**.\n",
        "\n",
        "**Gradient Boosting → Sequentially fits learners to residuals (gradients of loss).**"
      ],
      "metadata": {
        "id": "uzWCGH4_HPeT"
      }
    },
    {
      "cell_type": "markdown",
      "source": [
        "\n",
        "\n",
        "---\n",
        "\n"
      ],
      "metadata": {
        "id": "uq5VLQpyJBqP"
      }
    },
    {
      "cell_type": "markdown",
      "source": [
        "**3: How does regularization help in XGBoost?**\n",
        "\n",
        "**Answer:**\n",
        "\n",
        "XGBoost (Extreme Gradient Boosting) is an advanced implementation of Gradient Boosting that includes regularization terms in its objective function.\n",
        "\n",
        "**1.Prevents Overfitting**\n",
        "\n",
        "Without regularization, trees might become too deep or assign large weights to leaves, causing overfitting.\n",
        "\n",
        "L1 (Lasso) shrinks some weights to zero, simplifying the model.\n",
        "\n",
        "L2 (Ridge) keeps weights small, making the model more robust.\n",
        "\n",
        "**2.Controls Model Complexity**\n",
        "\n",
        "The 𝛾γ term adds a cost for adding new leaves.\n",
        "\n",
        "This prevents unnecessary splits unless they provide a significant improvement.\n",
        "\n",
        "**3.Improves Generalization**\n",
        "\n",
        "By penalizing complex trees and extreme weights, XGBoost produces models that perform better on unseen data.\n",
        "\n",
        "**4.Balances Bias-Variance**\n",
        "\n",
        "Regularization increases bias slightly but reduces variance significantly, improving stability.\n",
        "\n",
        "**3.Analogy**\n",
        "\n",
        "Think of XGBoost regularization like a teacher grading essays:\n",
        "\n",
        "Students (trees) want to write long, detailed answers (complex models).\n",
        "\n",
        "The teacher penalizes extra words (γ for leaves) and too heavy emphasis on some points (λ for large weights).\n",
        "\n",
        "Result: Concise, balanced answers that generalize better."
      ],
      "metadata": {
        "id": "D6tXyo8OJIfy"
      }
    },
    {
      "cell_type": "markdown",
      "source": [
        "\n",
        "\n",
        "---\n",
        "\n"
      ],
      "metadata": {
        "id": "Yz-eFYWRKmsA"
      }
    },
    {
      "cell_type": "markdown",
      "source": [
        "**4: Why is CatBoost considered efficient for handling categorical data?**\n",
        "\n",
        "**Answer:**\n",
        "\n",
        "**1.The Challenge with Categorical Data**\n",
        "\n",
        "Most ML algorithms (including Gradient Boosting, Random Forest, Logistic Regression, etc.) cannot directly handle categorical features like.\n",
        "\n",
        "**2.How CatBoost Solves This**\n",
        "\n",
        "CatBoost (Categorical Boosting, developed by Yandex) is specifically designed to handle categorical features efficiently.\n",
        "\n",
        "It uses a technique called Ordered Target Statistics (a.k.a. Ordered Encoding):\n",
        "\n",
        "Instead of blindly converting categories into one-hot vectors, CatBoost replaces a category with a statistical value derived from the target.\n",
        "\n",
        "Example: For a category \"blue\" in feature color, CatBoost computes something like:\n",
        "\n",
        "**No need for manual preprocessing**\n",
        "\n",
        "You can feed categorical features directly (e.g., strings like \"red\", \"blue\") into CatBoost.\n",
        "\n",
        "**Handles high-cardinality features**\n",
        "\n",
        "Instead of creating 1000 one-hot columns for a feature with 1000 categories, CatBoost encodes it into a single numeric value using target statistics.\n",
        "\n",
        "**Reduces overfitting with ordered statistic**s\n",
        "\n",
        "By avoiding target leakage, CatBoost keeps encodings stable and unbiased.\n",
        "\n",
        "**Faster training & smaller models**\n",
        "\n",
        "No explosion of dimensions like in one-hot encoding."
      ],
      "metadata": {
        "id": "lgia5Jd2KnxZ"
      }
    },
    {
      "cell_type": "markdown",
      "source": [
        "\n",
        "\n",
        "---\n",
        "\n"
      ],
      "metadata": {
        "id": "zdD7pIacMcQn"
      }
    },
    {
      "cell_type": "markdown",
      "source": [
        "**5: What are some real-world applications where boosting techniques are preferred over bagging methods?**\n",
        "\n"
      ],
      "metadata": {
        "id": "pBNQORXWMdf3"
      }
    },
    {
      "cell_type": "code",
      "source": [
        "from sklearn.datasets import load_breast_cancer, fetch_california_housing\n",
        "from sklearn.model_selection import train_test_split\n",
        "from sklearn.ensemble import RandomForestClassifier, GradientBoostingClassifier\n",
        "from sklearn.ensemble import RandomForestRegressor, GradientBoostingRegressor\n",
        "from sklearn.metrics import accuracy_score, recall_score, mean_squared_error\n",
        "import numpy as np\n",
        "\n",
        "# ----------------- Classification: Breast Cancer -----------------\n",
        "data_class = load_breast_cancer()\n",
        "X_train, X_test, y_train, y_test = train_test_split(\n",
        "    data_class.data, data_class.target, test_size=0.3, random_state=42\n",
        ")\n",
        "\n",
        "# Random Forest (Bagging)\n",
        "rf_clf = RandomForestClassifier(random_state=42)\n",
        "rf_clf.fit(X_train, y_train)\n",
        "rf_preds = rf_clf.predict(X_test)\n",
        "\n",
        "# Gradient Boosting (Boosting)\n",
        "gb_clf = GradientBoostingClassifier(random_state=42)\n",
        "gb_clf.fit(X_train, y_train)\n",
        "gb_preds = gb_clf.predict(X_test)\n",
        "\n",
        "print(\"Breast Cancer Dataset Results:\")\n",
        "print(\"Random Forest - Accuracy:\", accuracy_score(y_test, rf_preds),\n",
        "      \"Recall:\", recall_score(y_test, rf_preds))\n",
        "print(\"Gradient Boosting - Accuracy:\", accuracy_score(y_test, gb_preds),\n",
        "      \"Recall:\", recall_score(y_test, gb_preds))\n",
        "\n",
        "# ----------------- Regression: California Housing -----------------\n",
        "data_reg = fetch_california_housing()\n",
        "X_train, X_test, y_train, y_test = train_test_split(\n",
        "    data_reg.data, data_reg.target, test_size=0.3, random_state=42\n",
        ")\n",
        "\n",
        "# Random Forest (Bagging)\n",
        "rf_reg = RandomForestRegressor(random_state=42)\n",
        "rf_reg.fit(X_train, y_train)\n",
        "rf_preds = rf_reg.predict(X_test)\n",
        "\n",
        "# Gradient Boosting (Boosting)\n",
        "gb_reg = GradientBoostingRegressor(random_state=42)\n",
        "gb_reg.fit(X_train, y_train)\n",
        "gb_preds = gb_reg.predict(X_test)\n",
        "\n",
        "print(\"\\nCalifornia Housing Dataset Results:\")\n",
        "print(\"Random Forest - RMSE:\", np.sqrt(mean_squared_error(y_test, rf_preds)))\n",
        "print(\"Gradient Boosting - RMSE:\", np.sqrt(mean_squared_error(y_test, gb_preds)))\n"
      ],
      "metadata": {
        "colab": {
          "base_uri": "https://localhost:8080/"
        },
        "id": "xdBOsDZdF-8u",
        "outputId": "df6a6c82-7103-4f87-c1b2-9e55c23daa99"
      },
      "execution_count": 1,
      "outputs": [
        {
          "output_type": "stream",
          "name": "stdout",
          "text": [
            "Breast Cancer Dataset Results:\n",
            "Random Forest - Accuracy: 0.9707602339181286 Recall: 0.9907407407407407\n",
            "Gradient Boosting - Accuracy: 0.9590643274853801 Recall: 0.9722222222222222\n",
            "\n",
            "California Housing Dataset Results:\n",
            "Random Forest - RMSE: 0.5064633542597075\n",
            "Gradient Boosting - RMSE: 0.5369947659860906\n"
          ]
        }
      ]
    },
    {
      "cell_type": "markdown",
      "source": [
        "\n",
        "\n",
        "---\n",
        "\n"
      ],
      "metadata": {
        "id": "1iXrmrI6UNN1"
      }
    },
    {
      "cell_type": "markdown",
      "source": [
        "**6: Write a Python program to:**\n",
        "**● Train an AdaBoost Classifier on the Breast Cancer dataset**\n",
        "**● Print the model accuracy**\n",
        "**(Include your Python code and output in the code box below.)? **"
      ],
      "metadata": {
        "id": "5raIe2OeUO2E"
      }
    },
    {
      "cell_type": "code",
      "source": [
        "from sklearn.datasets import load_breast_cancer\n",
        "from sklearn.model_selection import train_test_split\n",
        "from sklearn.ensemble import AdaBoostClassifier\n",
        "from sklearn.metrics import accuracy_score\n",
        "\n",
        "# Load dataset\n",
        "data = load_breast_cancer()\n",
        "X, y = data.data, data.target\n",
        "\n",
        "# Split into train and test sets\n",
        "X_train, X_test, y_train, y_test = train_test_split(\n",
        "    X, y, test_size=0.3, random_state=42\n",
        ")\n",
        "\n",
        "# Train AdaBoost Classifier\n",
        "adb_clf = AdaBoostClassifier(random_state=42)\n",
        "adb_clf.fit(X_train, y_train)\n",
        "\n",
        "# Predictions\n",
        "y_pred = adb_clf.predict(X_test)\n",
        "\n",
        "# Accuracy\n",
        "accuracy = accuracy_score(y_test, y_pred)\n",
        "print(\"AdaBoost Classifier Accuracy:\", accuracy)\n"
      ],
      "metadata": {
        "colab": {
          "base_uri": "https://localhost:8080/"
        },
        "id": "NJGCXWZoUOGa",
        "outputId": "29c9b93c-668a-4f48-dd59-f944d7d7edca"
      },
      "execution_count": 2,
      "outputs": [
        {
          "output_type": "stream",
          "name": "stdout",
          "text": [
            "AdaBoost Classifier Accuracy: 0.9707602339181286\n"
          ]
        }
      ]
    },
    {
      "cell_type": "markdown",
      "source": [
        "\n",
        "\n",
        "---\n",
        "\n"
      ],
      "metadata": {
        "id": "yiJ13_vGVJvV"
      }
    },
    {
      "cell_type": "markdown",
      "source": [
        "** 7: Write a Python program to: **\n",
        "**● Train a Gradient Boosting Regressor on the California Housing dataset**\n",
        "**● Evaluate performance using R-squared score**\n",
        "**(Include your Python code and output in the code box below.)**"
      ],
      "metadata": {
        "id": "-KfdbmkNVQYM"
      }
    },
    {
      "cell_type": "code",
      "source": [
        "from sklearn.datasets import fetch_california_housing\n",
        "from sklearn.model_selection import train_test_split\n",
        "from sklearn.ensemble import GradientBoostingRegressor\n",
        "from sklearn.metrics import r2_score\n",
        "\n",
        "# Load dataset\n",
        "data = fetch_california_housing()\n",
        "X, y = data.data, data.target\n",
        "\n",
        "# Split into train and test sets\n",
        "X_train, X_test, y_train, y_test = train_test_split(\n",
        "    X, y, test_size=0.3, random_state=42\n",
        ")\n",
        "\n",
        "# Train Gradient Boosting Regressor\n",
        "gb_reg = GradientBoostingRegressor(random_state=42)\n",
        "gb_reg.fit(X_train, y_train)\n",
        "\n",
        "# Predictions\n",
        "y_pred = gb_reg.predict(X_test)\n",
        "\n",
        "# R-squared score\n",
        "r2 = r2_score(y_test, y_pred)\n",
        "print(\"Gradient Boosting Regressor R² Score:\", r2)\n"
      ],
      "metadata": {
        "colab": {
          "base_uri": "https://localhost:8080/"
        },
        "id": "39urhdIjF-6J",
        "outputId": "02a55440-dc04-4dc4-ccaa-5ad6b7965852"
      },
      "execution_count": 3,
      "outputs": [
        {
          "output_type": "stream",
          "name": "stdout",
          "text": [
            "Gradient Boosting Regressor R² Score: 0.7803012822391022\n"
          ]
        }
      ]
    },
    {
      "cell_type": "markdown",
      "source": [
        "\n",
        "\n",
        "---\n",
        "\n"
      ],
      "metadata": {
        "id": "F9MPDQ6FWgjX"
      }
    },
    {
      "cell_type": "markdown",
      "source": [
        "**8: Write a Python program to: ● Train an XGBoost Classifier on the Breast** **Cancer dataset ● Tune the learning rate using GridSearchCV ● Print the best** **parameters and accuracy (Include your Python code and output in the code box below.)**"
      ],
      "metadata": {
        "id": "omtjBN3zWiIc"
      }
    },
    {
      "cell_type": "code",
      "source": [
        "from sklearn.datasets import load_breast_cancer\n",
        "from sklearn.model_selection import train_test_split, GridSearchCV\n",
        "from sklearn.metrics import accuracy_score\n",
        "from xgboost import XGBClassifier\n",
        "\n",
        "# Load dataset\n",
        "data = load_breast_cancer()\n",
        "X, y = data.data, data.target\n",
        "\n",
        "# Split into train and test sets\n",
        "X_train, X_test, y_train, y_test = train_test_split(\n",
        "    X, y, test_size=0.3, random_state=42\n",
        ")\n",
        "\n",
        "# Define model\n",
        "xgb_clf = XGBClassifier(use_label_encoder=False, eval_metric='logloss', random_state=42)\n",
        "\n",
        "# Parameter grid for learning rate tuning\n",
        "param_grid = {\n",
        "    'learning_rate': [0.01, 0.05, 0.1, 0.2, 0.3]\n",
        "}\n",
        "\n",
        "# GridSearchCV\n",
        "grid_search = GridSearchCV(\n",
        "    estimator=xgb_clf,\n",
        "    param_grid=param_grid,\n",
        "    cv=5,\n",
        "    scoring='accuracy',\n",
        "    n_jobs=-1\n",
        ")\n",
        "grid_search.fit(X_train, y_train)\n",
        "\n",
        "# Best parameters\n",
        "best_params = grid_search.best_params_\n",
        "\n",
        "# Evaluate on test set\n",
        "best_model = grid_search.best_estimator_\n",
        "y_pred = best_model.predict(X_test)\n",
        "accuracy = accuracy_score(y_test, y_pred)\n",
        "\n",
        "print(\"Best Parameters:\", best_params)\n",
        "print(\"Test Set Accuracy:\", accuracy)\n"
      ],
      "metadata": {
        "colab": {
          "base_uri": "https://localhost:8080/"
        },
        "id": "mV6Y41s_F-3x",
        "outputId": "78855ec3-9dda-4c92-aca8-0b9e181753b4"
      },
      "execution_count": 4,
      "outputs": [
        {
          "output_type": "stream",
          "name": "stdout",
          "text": [
            "Best Parameters: {'learning_rate': 0.3}\n",
            "Test Set Accuracy: 0.9649122807017544\n"
          ]
        },
        {
          "output_type": "stream",
          "name": "stderr",
          "text": [
            "/usr/local/lib/python3.12/dist-packages/xgboost/training.py:183: UserWarning: [11:50:14] WARNING: /workspace/src/learner.cc:738: \n",
            "Parameters: { \"use_label_encoder\" } are not used.\n",
            "\n",
            "  bst.update(dtrain, iteration=i, fobj=obj)\n"
          ]
        }
      ]
    },
    {
      "cell_type": "markdown",
      "source": [
        "\n",
        "\n",
        "---\n",
        "\n"
      ],
      "metadata": {
        "id": "cdRx3MWTXjxM"
      }
    },
    {
      "cell_type": "markdown",
      "source": [
        "**9: Write a Python program to:**\n",
        "**● Train a CatBoost Classifier**\n",
        "**● Plot the confusion matrix using seaborn**\n",
        "**(Include your Python code and output in the code box below.)**"
      ],
      "metadata": {
        "id": "HK1Q5Q4NXlu-"
      }
    },
    {
      "cell_type": "code",
      "source": [
        "# Replace fetch_california_housing() with a built-in dataset\n",
        "from sklearn.datasets import load_diabetes\n",
        "from sklearn.model_selection import train_test_split\n",
        "from sklearn.ensemble import GradientBoostingRegressor\n",
        "from sklearn.metrics import r2_score\n",
        "\n",
        "data = load_diabetes()\n",
        "X, y = data.data, data.target\n",
        "\n",
        "X_train, X_test, y_train, y_test = train_test_split(X, y, test_size=0.3, random_state=42)\n",
        "\n",
        "gb_reg = GradientBoostingRegressor(random_state=42)\n",
        "gb_reg.fit(X_train, y_train)\n",
        "y_pred = gb_reg.predict(X_test)\n",
        "print(\"R^2:\", r2_score(y_test, y_pred))\n"
      ],
      "metadata": {
        "colab": {
          "base_uri": "https://localhost:8080/"
        },
        "id": "pQIzmR5hF-xU",
        "outputId": "4914a558-c3a9-4ff1-f763-0ecce25a7840"
      },
      "execution_count": 6,
      "outputs": [
        {
          "output_type": "stream",
          "name": "stdout",
          "text": [
            "R^2: 0.4310349361457486\n"
          ]
        }
      ]
    },
    {
      "cell_type": "code",
      "source": [
        "from sklearn.datasets import load_breast_cancer\n",
        "from sklearn.model_selection import train_test_split, GridSearchCV\n",
        "from sklearn.metrics import accuracy_score\n",
        "from xgboost import XGBClassifier\n",
        "\n",
        "data = load_breast_cancer()\n",
        "X_train, X_test, y_train, y_test = train_test_split(data.data, data.target, test_size=0.3, random_state=42)\n",
        "\n",
        "xgb = XGBClassifier(\n",
        "    use_label_encoder=False,\n",
        "    eval_metric='logloss',\n",
        "    random_state=42,\n",
        "    verbosity=0,\n",
        "    tree_method='hist',  # faster for CPU\n",
        "    n_jobs=1             # avoid heavy parallel mem usage during GridSearch\n",
        ")\n",
        "\n",
        "param_grid = {'learning_rate': [0.01, 0.05, 0.1]}  # small grid for speed\n",
        "\n",
        "grid = GridSearchCV(xgb, param_grid, cv=3, scoring='accuracy', n_jobs=1, verbose=2)\n",
        "grid.fit(X_train, y_train)\n",
        "\n",
        "print(\"Best params:\", grid.best_params_)\n",
        "print(\"Test accuracy:\", accuracy_score(y_test, grid.predict(X_test)))\n"
      ],
      "metadata": {
        "colab": {
          "base_uri": "https://localhost:8080/"
        },
        "id": "a-LVV5rPF-rQ",
        "outputId": "1f3bb35a-63bd-4d47-dd7f-8797312f21cc"
      },
      "execution_count": 8,
      "outputs": [
        {
          "output_type": "stream",
          "name": "stdout",
          "text": [
            "Fitting 3 folds for each of 3 candidates, totalling 9 fits\n",
            "[CV] END .................................learning_rate=0.01; total time=   0.2s\n",
            "[CV] END .................................learning_rate=0.01; total time=   0.2s\n",
            "[CV] END .................................learning_rate=0.01; total time=   0.2s\n",
            "[CV] END .................................learning_rate=0.05; total time=   0.1s\n",
            "[CV] END .................................learning_rate=0.05; total time=   0.2s\n",
            "[CV] END .................................learning_rate=0.05; total time=   0.2s\n",
            "[CV] END ..................................learning_rate=0.1; total time=   0.2s\n",
            "[CV] END ..................................learning_rate=0.1; total time=   0.2s\n",
            "[CV] END ..................................learning_rate=0.1; total time=   0.1s\n",
            "Best params: {'learning_rate': 0.05}\n",
            "Test accuracy: 0.9649122807017544\n"
          ]
        }
      ]
    },
    {
      "cell_type": "code",
      "source": [
        "pip install catboost\n"
      ],
      "metadata": {
        "colab": {
          "base_uri": "https://localhost:8080/"
        },
        "id": "Z1zjc0nKF-iK",
        "outputId": "4b6ef94b-09b8-4949-d7c5-071e9c25ef1a"
      },
      "execution_count": 10,
      "outputs": [
        {
          "output_type": "stream",
          "name": "stdout",
          "text": [
            "Collecting catboost\n",
            "  Downloading catboost-1.2.8-cp312-cp312-manylinux2014_x86_64.whl.metadata (1.2 kB)\n",
            "Requirement already satisfied: graphviz in /usr/local/lib/python3.12/dist-packages (from catboost) (0.21)\n",
            "Requirement already satisfied: matplotlib in /usr/local/lib/python3.12/dist-packages (from catboost) (3.10.0)\n",
            "Requirement already satisfied: numpy<3.0,>=1.16.0 in /usr/local/lib/python3.12/dist-packages (from catboost) (2.0.2)\n",
            "Requirement already satisfied: pandas>=0.24 in /usr/local/lib/python3.12/dist-packages (from catboost) (2.2.2)\n",
            "Requirement already satisfied: scipy in /usr/local/lib/python3.12/dist-packages (from catboost) (1.16.1)\n",
            "Requirement already satisfied: plotly in /usr/local/lib/python3.12/dist-packages (from catboost) (5.24.1)\n",
            "Requirement already satisfied: six in /usr/local/lib/python3.12/dist-packages (from catboost) (1.17.0)\n",
            "Requirement already satisfied: python-dateutil>=2.8.2 in /usr/local/lib/python3.12/dist-packages (from pandas>=0.24->catboost) (2.9.0.post0)\n",
            "Requirement already satisfied: pytz>=2020.1 in /usr/local/lib/python3.12/dist-packages (from pandas>=0.24->catboost) (2025.2)\n",
            "Requirement already satisfied: tzdata>=2022.7 in /usr/local/lib/python3.12/dist-packages (from pandas>=0.24->catboost) (2025.2)\n",
            "Requirement already satisfied: contourpy>=1.0.1 in /usr/local/lib/python3.12/dist-packages (from matplotlib->catboost) (1.3.3)\n",
            "Requirement already satisfied: cycler>=0.10 in /usr/local/lib/python3.12/dist-packages (from matplotlib->catboost) (0.12.1)\n",
            "Requirement already satisfied: fonttools>=4.22.0 in /usr/local/lib/python3.12/dist-packages (from matplotlib->catboost) (4.59.1)\n",
            "Requirement already satisfied: kiwisolver>=1.3.1 in /usr/local/lib/python3.12/dist-packages (from matplotlib->catboost) (1.4.9)\n",
            "Requirement already satisfied: packaging>=20.0 in /usr/local/lib/python3.12/dist-packages (from matplotlib->catboost) (25.0)\n",
            "Requirement already satisfied: pillow>=8 in /usr/local/lib/python3.12/dist-packages (from matplotlib->catboost) (11.3.0)\n",
            "Requirement already satisfied: pyparsing>=2.3.1 in /usr/local/lib/python3.12/dist-packages (from matplotlib->catboost) (3.2.3)\n",
            "Requirement already satisfied: tenacity>=6.2.0 in /usr/local/lib/python3.12/dist-packages (from plotly->catboost) (8.5.0)\n",
            "Downloading catboost-1.2.8-cp312-cp312-manylinux2014_x86_64.whl (99.2 MB)\n",
            "\u001b[2K   \u001b[90m━━━━━━━━━━━━━━━━━━━━━━━━━━━━━━━━━━━━━━━━\u001b[0m \u001b[32m99.2/99.2 MB\u001b[0m \u001b[31m8.2 MB/s\u001b[0m eta \u001b[36m0:00:00\u001b[0m\n",
            "\u001b[?25hInstalling collected packages: catboost\n",
            "Successfully installed catboost-1.2.8\n"
          ]
        }
      ]
    },
    {
      "cell_type": "code",
      "source": [
        "plt.savefig(\"catboost_confusion_matrix.png\")\n"
      ],
      "metadata": {
        "colab": {
          "base_uri": "https://localhost:8080/",
          "height": 34
        },
        "id": "4OLiCRsXF-Y-",
        "outputId": "3808dde2-f040-4a39-9818-d56a9937035a"
      },
      "execution_count": 13,
      "outputs": [
        {
          "output_type": "display_data",
          "data": {
            "text/plain": [
              "<Figure size 640x480 with 0 Axes>"
            ]
          },
          "metadata": {}
        }
      ]
    },
    {
      "cell_type": "code",
      "source": [
        "from sklearn.datasets import load_breast_cancer\n",
        "from sklearn.model_selection import train_test_split\n",
        "from sklearn.metrics import confusion_matrix, classification_report\n",
        "import seaborn as sns\n",
        "import matplotlib.pyplot as plt\n",
        "from catboost import CatBoostClassifier\n",
        "\n",
        "# Load dataset\n",
        "data = load_breast_cancer()\n",
        "X_train, X_test, y_train, y_test = train_test_split(\n",
        "    data.data, data.target, test_size=0.3, random_state=42\n",
        ")\n",
        "\n",
        "# Train CatBoost\n",
        "model = CatBoostClassifier(verbose=0, random_state=42)\n",
        "model.fit(X_train, y_train)\n",
        "\n",
        "# Predictions\n",
        "y_pred = model.predict(X_test)\n",
        "\n",
        "# Confusion matrix\n",
        "cm = confusion_matrix(y_test, y_pred)\n",
        "print(classification_report(y_test, y_pred, target_names=data.target_names))\n",
        "\n",
        "# Plot heatmap\n",
        "plt.figure(figsize=(6,4))\n",
        "sns.heatmap(cm, annot=True, fmt=\"d\",\n",
        "            xticklabels=data.target_names, yticklabels=data.target_names,\n",
        "            cmap=\"Blues\")\n",
        "plt.xlabel(\"Predicted\")\n",
        "plt.ylabel(\"Actual\")\n",
        "plt.title(\"Confusion Matrix - CatBoost Classifier\")\n",
        "plt.tight_layout()\n",
        "plt.show()  # use show if local, or replace with savefig if on server\n"
      ],
      "metadata": {
        "colab": {
          "base_uri": "https://localhost:8080/",
          "height": 563
        },
        "id": "foa7N-ixF-WO",
        "outputId": "85226c5c-edef-4448-c383-68844c98dabd"
      },
      "execution_count": 14,
      "outputs": [
        {
          "output_type": "stream",
          "name": "stdout",
          "text": [
            "              precision    recall  f1-score   support\n",
            "\n",
            "   malignant       0.98      0.95      0.97        63\n",
            "      benign       0.97      0.99      0.98       108\n",
            "\n",
            "    accuracy                           0.98       171\n",
            "   macro avg       0.98      0.97      0.97       171\n",
            "weighted avg       0.98      0.98      0.98       171\n",
            "\n"
          ]
        },
        {
          "output_type": "display_data",
          "data": {
            "text/plain": [
              "<Figure size 600x400 with 2 Axes>"
            ],
            "image/png": "[encoded data removed]"
          },
          "metadata": {}
        }
      ]
    },
    {
      "cell_type": "markdown",
      "source": [
        "\n",
        "\n",
        "---\n",
        "\n"
      ],
      "metadata": {
        "id": "chy0rHGnZ7nI"
      }
    },
    {
      "cell_type": "markdown",
      "source": [
        "**10: You're working for a FinTech company trying to predict loan default using**\n",
        "**customer demographics and transaction behavior.**\n",
        "**The dataset is imbalanced, contains missing values, and has both numeric and**\n",
        "**categorical features.**\n",
        "**Describe your step-by-step data science pipeline using boosting techniques:**\n",
        "**● Data preprocessing & handling missing/categorical values**\n",
        "**● Choice between AdaBoost, XGBoost, or CatBoost**\n",
        "**● Hyperparameter tuning strategy**\n",
        "**● Evaluation metrics you'd choose and why**\n",
        "**● How the business would benefit from your model**"
      ],
      "metadata": {
        "id": "yXeqwf-TaKp-"
      }
    },
    {
      "cell_type": "code",
      "source": [
        "!pip install -U pip\n",
        "!pip install -U numpy pandas scikit-learn catboost seaborn matplotlib\n"
      ],
      "metadata": {
        "colab": {
          "base_uri": "https://localhost:8080/"
        },
        "id": "S4wE7O2MF-Mu",
        "outputId": "3bf73b18-c513-402c-fd60-9d1efc6f99d9"
      },
      "execution_count": 1,
      "outputs": [
        {
          "output_type": "stream",
          "name": "stdout",
          "text": [
            "Requirement already satisfied: pip in /usr/local/lib/python3.12/dist-packages (25.2)\n",
            "Requirement already satisfied: numpy in /usr/local/lib/python3.12/dist-packages (2.3.2)\n",
            "Requirement already satisfied: pandas in /usr/local/lib/python3.12/dist-packages (2.3.2)\n",
            "Requirement already satisfied: scikit-learn in /usr/local/lib/python3.12/dist-packages (1.7.1)\n",
            "Requirement already satisfied: catboost in /usr/local/lib/python3.12/dist-packages (1.2.8)\n",
            "Requirement already satisfied: seaborn in /usr/local/lib/python3.12/dist-packages (0.13.2)\n",
            "Requirement already satisfied: matplotlib in /usr/local/lib/python3.12/dist-packages (3.10.5)\n",
            "Requirement already satisfied: python-dateutil>=2.8.2 in /usr/local/lib/python3.12/dist-packages (from pandas) (2.9.0.post0)\n",
            "Requirement already satisfied: pytz>=2020.1 in /usr/local/lib/python3.12/dist-packages (from pandas) (2025.2)\n",
            "Requirement already satisfied: tzdata>=2022.7 in /usr/local/lib/python3.12/dist-packages (from pandas) (2025.2)\n",
            "Requirement already satisfied: scipy>=1.8.0 in /usr/local/lib/python3.12/dist-packages (from scikit-learn) (1.16.1)\n",
            "Requirement already satisfied: joblib>=1.2.0 in /usr/local/lib/python3.12/dist-packages (from scikit-learn) (1.5.1)\n",
            "Requirement already satisfied: threadpoolctl>=3.1.0 in /usr/local/lib/python3.12/dist-packages (from scikit-learn) (3.6.0)\n",
            "Requirement already satisfied: graphviz in /usr/local/lib/python3.12/dist-packages (from catboost) (0.21)\n",
            "Requirement already satisfied: plotly in /usr/local/lib/python3.12/dist-packages (from catboost) (5.24.1)\n",
            "Requirement already satisfied: six in /usr/local/lib/python3.12/dist-packages (from catboost) (1.17.0)\n",
            "Requirement already satisfied: contourpy>=1.0.1 in /usr/local/lib/python3.12/dist-packages (from matplotlib) (1.3.3)\n",
            "Requirement already satisfied: cycler>=0.10 in /usr/local/lib/python3.12/dist-packages (from matplotlib) (0.12.1)\n",
            "Requirement already satisfied: fonttools>=4.22.0 in /usr/local/lib/python3.12/dist-packages (from matplotlib) (4.59.1)\n",
            "Requirement already satisfied: kiwisolver>=1.3.1 in /usr/local/lib/python3.12/dist-packages (from matplotlib) (1.4.9)\n",
            "Requirement already satisfied: packaging>=20.0 in /usr/local/lib/python3.12/dist-packages (from matplotlib) (25.0)\n",
            "Requirement already satisfied: pillow>=8 in /usr/local/lib/python3.12/dist-packages (from matplotlib) (11.3.0)\n",
            "Requirement already satisfied: pyparsing>=2.3.1 in /usr/local/lib/python3.12/dist-packages (from matplotlib) (3.2.3)\n",
            "Requirement already satisfied: tenacity>=6.2.0 in /usr/local/lib/python3.12/dist-packages (from plotly->catboost) (8.5.0)\n"
          ]
        }
      ]
    },
    {
      "cell_type": "code",
      "source": [
        "import sklearn, catboost, seaborn, matplotlib, numpy, pandas\n",
        "print(\"sklearn\", sklearn.__version__, \"catboost OK\")\n"
      ],
      "metadata": {
        "colab": {
          "base_uri": "https://localhost:8080/"
        },
        "id": "8cV8h6HfF-Ju",
        "outputId": "fd5ba9c8-17b2-4b91-ed0d-65102232a3f8"
      },
      "execution_count": 2,
      "outputs": [
        {
          "output_type": "stream",
          "name": "stdout",
          "text": [
            "sklearn 1.7.1 catboost OK\n"
          ]
        }
      ]
    },
    {
      "cell_type": "code",
      "source": [
        "\n",
        "import traceback\n",
        "import sys\n",
        "import numpy as np\n",
        "import pandas as pd\n",
        "\n",
        "def safe_imports():\n",
        "    try:\n",
        "        import sklearn\n",
        "        import catboost\n",
        "        import seaborn\n",
        "        import matplotlib\n",
        "        print(\"Imports OK:\", \"sklearn\", sklearn.__version__)\n",
        "    except Exception as e:\n",
        "        print(\"Import error:\", e)\n",
        "        traceback.print_exc()\n",
        "        sys.exit(1)\n",
        "\n",
        "safe_imports()\n",
        "\n",
        "from sklearn.model_selection import train_test_split, StratifiedKFold, RandomizedSearchCV\n",
        "from sklearn.impute import SimpleImputer\n",
        "from sklearn.pipeline import Pipeline\n",
        "from sklearn.compose import ColumnTransformer\n",
        "from sklearn.preprocessing import OneHotEncoder\n",
        "from sklearn.metrics import (\n",
        "    roc_auc_score, average_precision_score, precision_recall_curve,\n",
        "    classification_report, confusion_matrix, f1_score, recall_score, precision_score, brier_score_loss\n",
        ")\n",
        "import matplotlib.pyplot as plt\n",
        "import seaborn as sns\n",
        "from catboost import CatBoostClassifier, Pool\n",
        "\n",
        "# --- Synthetic data generator (same as yours) ---\n",
        "def make_synthetic_df(n=2000, random_state=42):\n",
        "    rng = np.random.RandomState(random_state)\n",
        "    df = pd.DataFrame({\n",
        "        \"age\": rng.randint(21, 70, size=n),\n",
        "        \"income\": rng.normal(60000, 15000, size=n),\n",
        "        \"num_txn_6m\": rng.poisson(5, size=n),\n",
        "        \"avg_txn_amt\": np.abs(rng.normal(200, 80, size=n)),\n",
        "        \"city\": rng.choice([\"A\",\"B\",\"C\",\"D\",\"E\"], size=n, p=[0.5,0.2,0.15,0.1,0.05]),\n",
        "        \"employment_type\": rng.choice([\"salaried\",\"self-employed\",\"unemployed\"], size=n, p=[0.7,0.25,0.05])\n",
        "    })\n",
        "    logits = -3 + 0.01*(df[\"age\"]-40) - 0.00003*(df[\"income\"]-60000) + 0.15*df[\"num_txn_6m\"]\n",
        "    probs = 1 / (1 + np.exp(-logits))\n",
        "    y = (rng.rand(n) < (0.08 + probs*0.05)).astype(int)\n",
        "    df[\"target\"] = y\n",
        "    mask = rng.rand(n) < 0.05\n",
        "    df.loc[mask, \"income\"] = np.nan\n",
        "    return df\n",
        "\n",
        "# --- Helper: compatibility for OneHotEncoder param name ---\n",
        "def make_ohe():\n",
        "    try:\n",
        "        # sklearn >= 1.4 uses sparse_output\n",
        "        return OneHotEncoder(handle_unknown=\"ignore\", sparse_output=False)\n",
        "    except TypeError:\n",
        "        # older sklearn uses sparse\n",
        "        return OneHotEncoder(handle_unknown=\"ignore\", sparse=False)\n",
        "\n",
        "# Run pipeline in guarded blocks\n",
        "try:\n",
        "    print(\"\\n1) Load data\")\n",
        "    df = make_synthetic_df()\n",
        "    target_col = \"target\"\n",
        "    feature_cols = [c for c in df.columns if c != target_col]\n",
        "    numeric_cols = df[feature_cols].select_dtypes(include=[\"int64\",\"float64\"]).columns.tolist()\n",
        "    categorical_cols = df[feature_cols].select_dtypes(include=[\"object\",\"category\"]).columns.tolist()\n",
        "    print(\" Numeric cols:\", numeric_cols)\n",
        "    print(\" Categorical cols:\", categorical_cols)\n",
        "    print(\" Class dist:\", df[target_col].value_counts(normalize=True).to_dict())\n",
        "\n",
        "    print(\"\\n2) Train/test split\")\n",
        "    X = df[feature_cols]\n",
        "    y = df[target_col].values\n",
        "    X_trainval, X_test, y_trainval, y_test = train_test_split(\n",
        "        X, y, test_size=0.2, stratify=y, random_state=42\n",
        "    )\n",
        "    print(\" Shapes:\", X_trainval.shape, X_test.shape)\n",
        "\n",
        "    print(\"\\n3) Preprocessor\")\n",
        "    numeric_transformer = Pipeline([(\"imputer\", SimpleImputer(strategy=\"median\"))])\n",
        "    ohe = make_ohe()\n",
        "    categorical_transformer = Pipeline([(\"imputer\", SimpleImputer(strategy=\"constant\", fill_value=\"__MISSING__\")), (\"ohe\", ohe)])\n",
        "    from sklearn.compose import ColumnTransformer\n",
        "    preprocessor = ColumnTransformer(transformers=[\n",
        "        (\"num\", numeric_transformer, numeric_cols),\n",
        "        (\"cat\", categorical_transformer, categorical_cols),\n",
        "    ], remainder=\"drop\")\n",
        "    preprocessor.fit(X_trainval)\n",
        "    X_trainval_proc = preprocessor.transform(X_trainval)\n",
        "    X_test_proc = preprocessor.transform(X_test)\n",
        "    print(\" Preprocessed shapes:\", X_trainval_proc.shape, X_test_proc.shape)\n",
        "\n",
        "    print(\"\\n4) CatBoost Pool with categorical indices\")\n",
        "    # Use indices to avoid potential name vs index ambiguity\n",
        "    cat_features_indices = [list(X_trainval.columns).index(c) for c in categorical_cols]\n",
        "    print(\" cat_features_indices:\", cat_features_indices)\n",
        "    train_pool = Pool(data=X_trainval, label=y_trainval, cat_features=cat_features_indices)\n",
        "    test_pool = Pool(data=X_test, label=y_test, cat_features=cat_features_indices)\n",
        "    print(\" Pools created OK\")\n",
        "\n",
        "    print(\"\\n5) Quick CatBoost fit (small iterations for debug)\")\n",
        "    # compute class weights safely\n",
        "    pos = int(y_trainval.sum())\n",
        "    neg = len(y_trainval) - pos\n",
        "    class_weights = [1.0, max(1.0, neg/ max(1.0, pos))]\n",
        "    debug_model = CatBoostClassifier(\n",
        "        iterations=100, learning_rate=0.05, depth=4,\n",
        "        random_seed=42, verbose=10, class_weights=class_weights\n",
        "    )\n",
        "    debug_model.fit(train_pool, eval_set=test_pool, use_best_model=True)\n",
        "    print(\" Quick CatBoost done\")\n",
        "\n",
        "    print(\"\\n6) Eval quick model\")\n",
        "    y_proba = debug_model.predict_proba(X_test)[:,1]\n",
        "    from sklearn.metrics import roc_auc_score, average_precision_score\n",
        "    print(\" ROC AUC:\", roc_auc_score(y_test, y_proba))\n",
        "    print(\" PR AUC:\", average_precision_score(y_test, y_proba))\n",
        "\n",
        "    print(\"\\n7) Quick RandomizedSearchCV test (small)\")\n",
        "    from catboost import CatBoostClassifier as CBC\n",
        "    cbc = CBC(random_seed=42, verbose=0, class_weights=class_weights, eval_metric=\"AUC\")\n",
        "    param_dist = {\"learning_rate\":[0.01,0.05], \"depth\":[4,6], \"iterations\":[50,100]}\n",
        "    from sklearn.model_selection import RandomizedSearchCV\n",
        "    rs = RandomizedSearchCV(cbc, param_distributions=param_dist, n_iter=3, cv=2, n_jobs=1, scoring=\"average_precision\", verbose=2, random_state=42)\n",
        "    # NOTE: RandomizedSearchCV expects arrays (not Pool), so pass preprocessed arrays:\n",
        "    rs.fit(X_trainval_proc, y_trainval)\n",
        "    print(\" RS best params:\", rs.best_params_)\n",
        "    best = rs.best_estimator_\n",
        "\n",
        "    print(\"\\n8) Final evaluation and save confusion matrix\")\n",
        "    y_proba_best = best.predict_proba(X_test_proc)[:,1]\n",
        "    from sklearn.metrics import precision_recall_curve\n",
        "    precisions, recalls, thresholds = precision_recall_curve(y_test, y_proba_best)\n",
        "    print(\" Example PR points:\", precisions[:3], recalls[:3])\n",
        "    # Save confusion matrix at 0.5\n",
        "    import matplotlib.pyplot as plt\n",
        "    cm = confusion_matrix(y_test, (y_proba_best>=0.5).astype(int))\n",
        "    plt.figure(figsize=(4,4))\n",
        "    sns.heatmap(cm, annot=True, fmt='d', cmap='Blues')\n",
        "    plt.title(\"Confusion matrix (debug)\")\n",
        "    plt.tight_layout()\n",
        "    plt.savefig(\"debug_confusion_matrix.png\")\n",
        "    print(\"Saved debug_confusion_matrix.png\")\n",
        "\n",
        "except Exception as e:\n",
        "    print(\"\\n--- EXCEPTION RAISED ---\")\n",
        "    print(\"Step failed with:\", e)\n",
        "    traceback.print_exc()\n",
        "    sys.exit(1)\n"
      ],
      "metadata": {
        "colab": {
          "base_uri": "https://localhost:8080/",
          "height": 1000
        },
        "id": "D_m_yzlDF-Gm",
        "outputId": "e0ff2f94-a277-41e0-f0a9-1e4c4938ba7d"
      },
      "execution_count": 3,
      "outputs": [
        {
          "output_type": "stream",
          "name": "stdout",
          "text": [
            "Imports OK: sklearn 1.7.1\n",
            "\n",
            "1) Load data\n",
            " Numeric cols: ['age', 'income', 'num_txn_6m', 'avg_txn_amt']\n",
            " Categorical cols: ['city', 'employment_type']\n",
            " Class dist: {0: 0.9125, 1: 0.0875}\n",
            "\n",
            "2) Train/test split\n",
            " Shapes: (1600, 6) (400, 6)\n",
            "\n",
            "3) Preprocessor\n",
            " Preprocessed shapes: (1600, 12) (400, 12)\n",
            "\n",
            "4) CatBoost Pool with categorical indices\n",
            " cat_features_indices: [4, 5]\n",
            " Pools created OK\n",
            "\n",
            "5) Quick CatBoost fit (small iterations for debug)\n",
            "0:\tlearn: 0.6914019\ttest: 0.6936676\tbest: 0.6936676 (0)\ttotal: 70.9ms\tremaining: 7.01s\n",
            "10:\tlearn: 0.6860091\ttest: 0.6938547\tbest: 0.6934910 (1)\ttotal: 110ms\tremaining: 894ms\n",
            "20:\tlearn: 0.6814088\ttest: 0.6947228\tbest: 0.6934910 (1)\ttotal: 135ms\tremaining: 507ms\n",
            "30:\tlearn: 0.6769085\ttest: 0.6954242\tbest: 0.6934910 (1)\ttotal: 162ms\tremaining: 360ms\n",
            "40:\tlearn: 0.6710290\ttest: 0.6975442\tbest: 0.6934910 (1)\ttotal: 228ms\tremaining: 329ms\n",
            "50:\tlearn: 0.6657988\ttest: 0.7022554\tbest: 0.6934910 (1)\ttotal: 272ms\tremaining: 262ms\n",
            "60:\tlearn: 0.6623929\ttest: 0.7019542\tbest: 0.6934910 (1)\ttotal: 332ms\tremaining: 212ms\n",
            "70:\tlearn: 0.6590102\ttest: 0.7023054\tbest: 0.6934910 (1)\ttotal: 370ms\tremaining: 151ms\n",
            "80:\tlearn: 0.6551619\ttest: 0.7034874\tbest: 0.6934910 (1)\ttotal: 398ms\tremaining: 93.4ms\n",
            "90:\tlearn: 0.6508636\ttest: 0.7048429\tbest: 0.6934910 (1)\ttotal: 428ms\tremaining: 42.4ms\n",
            "99:\tlearn: 0.6480948\ttest: 0.7053805\tbest: 0.6934910 (1)\ttotal: 448ms\tremaining: 0us\n",
            "\n",
            "bestTest = 0.6934910116\n",
            "bestIteration = 1\n",
            "\n",
            "Shrink model to first 2 iterations.\n",
            " Quick CatBoost done\n",
            "\n",
            "6) Eval quick model\n",
            " ROC AUC: 0.47682974559686897\n",
            " PR AUC: 0.08271924599637522\n",
            "\n",
            "7) Quick RandomizedSearchCV test (small)\n",
            "Fitting 2 folds for each of 3 candidates, totalling 6 fits\n",
            "[CV] END .........depth=4, iterations=50, learning_rate=0.05; total time=   0.2s\n",
            "[CV] END .........depth=4, iterations=50, learning_rate=0.05; total time=   0.2s\n",
            "[CV] END .........depth=6, iterations=50, learning_rate=0.05; total time=   0.3s\n",
            "[CV] END .........depth=6, iterations=50, learning_rate=0.05; total time=   0.2s\n",
            "[CV] END .........depth=4, iterations=50, learning_rate=0.01; total time=   0.1s\n",
            "[CV] END .........depth=4, iterations=50, learning_rate=0.01; total time=   0.1s\n",
            " RS best params: {'learning_rate': 0.05, 'iterations': 50, 'depth': 6}\n",
            "\n",
            "8) Final evaluation and save confusion matrix\n",
            " Example PR points: [0.0875    0.0877193 0.0879397] [1. 1. 1.]\n",
            "Saved debug_confusion_matrix.png\n"
          ]
        },
        {
          "output_type": "display_data",
          "data": {
            "text/plain": [
              "<Figure size 400x400 with 2 Axes>"
            ],
            "image/png": "[encoded data removed]"
          },
          "metadata": {}
        }
      ]
    },
    {
      "cell_type": "code",
      "execution_count": null,
      "metadata": {
        "id": "gCaQs_zYFebK"
      },
      "outputs": [],
      "source": []
    }
  ]
}